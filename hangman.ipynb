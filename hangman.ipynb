{
  "cells": [
    {
      "cell_type": "code",
      "execution_count": null,
      "metadata": {
        "execution": {
          "iopub.execute_input": "2025-05-27T07:34:54.586733Z",
          "iopub.status.busy": "2025-05-27T07:34:54.586419Z",
          "iopub.status.idle": "2025-05-27T07:34:56.209046Z",
          "shell.execute_reply": "2025-05-27T07:34:56.208279Z",
          "shell.execute_reply.started": "2025-05-27T07:34:54.586714Z"
        },
        "id": "tEWD2OArJPWl",
        "trusted": true
      },
      "outputs": [],
      "source": [
        "import numpy as np\n",
        "import pandas as pd\n",
        "import torch\n",
        "import torch.nn as nn\n",
        "import torch.nn.functional as F\n",
        "from torch.optim import AdamW\n",
        "from torch.optim.lr_scheduler import CosineAnnealingLR\n",
        "from tqdm import tqdm"
      ]
    },
    {
      "cell_type": "code",
      "execution_count": null,
      "metadata": {
        "execution": {
          "iopub.execute_input": "2025-05-27T07:34:57.612153Z",
          "iopub.status.busy": "2025-05-27T07:34:57.611768Z",
          "iopub.status.idle": "2025-05-27T07:34:57.637799Z",
          "shell.execute_reply": "2025-05-27T07:34:57.637287Z",
          "shell.execute_reply.started": "2025-05-27T07:34:57.612130Z"
        },
        "id": "ZOEiwsFUJPWl",
        "trusted": true
      },
      "outputs": [],
      "source": [
        "with open('words_250000_train.txt', 'r') as f:\n",
        "    words = f.read()"
      ]
    },
    {
      "cell_type": "code",
      "execution_count": null,
      "metadata": {
        "colab": {
          "base_uri": "https://localhost:8080/"
        },
        "execution": {
          "iopub.execute_input": "2025-05-27T07:34:58.251954Z",
          "iopub.status.busy": "2025-05-27T07:34:58.251692Z",
          "iopub.status.idle": "2025-05-27T07:34:58.285223Z",
          "shell.execute_reply": "2025-05-27T07:34:58.284643Z",
          "shell.execute_reply.started": "2025-05-27T07:34:58.251935Z"
        },
        "id": "BVQuJs6NJPWm",
        "outputId": "f3782cab-977f-47bc-8700-92b6c72c2941",
        "trusted": true
      },
      "outputs": [
        {
          "name": "stdout",
          "output_type": "stream",
          "text": [
            "\n",
            "*_abcdefghijklmnopqrstuvwxyz\n"
          ]
        }
      ],
      "source": [
        "words = '_*' + words\n",
        "chars = sorted(list(set(words)))\n",
        "vocab_size = len(chars)\n",
        "print(''.join(chars))"
      ]
    },
    {
      "cell_type": "code",
      "execution_count": null,
      "metadata": {
        "execution": {
          "iopub.execute_input": "2025-05-27T07:34:58.772082Z",
          "iopub.status.busy": "2025-05-27T07:34:58.771833Z",
          "iopub.status.idle": "2025-05-27T07:34:58.797766Z",
          "shell.execute_reply": "2025-05-27T07:34:58.797053Z",
          "shell.execute_reply.started": "2025-05-27T07:34:58.772061Z"
        },
        "id": "5TrjI4-jJPWm",
        "trusted": true
      },
      "outputs": [],
      "source": [
        "w_list = words.strip().split()"
      ]
    },
    {
      "cell_type": "code",
      "execution_count": null,
      "metadata": {
        "execution": {
          "iopub.execute_input": "2025-05-27T07:35:01.187977Z",
          "iopub.status.busy": "2025-05-27T07:35:01.187358Z",
          "iopub.status.idle": "2025-05-27T07:35:01.192067Z",
          "shell.execute_reply": "2025-05-27T07:35:01.191476Z",
          "shell.execute_reply.started": "2025-05-27T07:35:01.187947Z"
        },
        "id": "6jUQtqBeJPWm",
        "trusted": true
      },
      "outputs": [],
      "source": [
        "stoi = { ch:i for i,ch in enumerate(chars) }\n",
        "itos = { i:ch for i,ch in enumerate(chars) }\n",
        "encode = lambda s: [stoi[c] for c in s]\n",
        "decode = lambda l: ''.join([itos[i] for i in l])"
      ]
    },
    {
      "cell_type": "code",
      "execution_count": null,
      "metadata": {
        "execution": {
          "iopub.execute_input": "2025-05-27T07:35:02.232578Z",
          "iopub.status.busy": "2025-05-27T07:35:02.232317Z",
          "iopub.status.idle": "2025-05-27T07:35:15.263155Z",
          "shell.execute_reply": "2025-05-27T07:35:15.262579Z",
          "shell.execute_reply.started": "2025-05-27T07:35:02.232560Z"
        },
        "id": "3go2aNxLJPWm",
        "trusted": true
      },
      "outputs": [],
      "source": [
        "import random\n",
        "random.seed(42)\n",
        "\n",
        "targ = []\n",
        "inp = []\n",
        "\n",
        "for i in range(len(w_list)):\n",
        "    for j in range(len(w_list[i])):\n",
        "        a = random.randint(0, len(w_list[i])-1)\n",
        "        if j == 0:\n",
        "            b = list(w_list[i])\n",
        "            b[a] = '_'\n",
        "        else:\n",
        "            b[a] = '_'\n",
        "        while len(b)<29:\n",
        "            b.append('*')\n",
        "        inp.append(encode(b))\n",
        "        targ.append(encode(w_list[i].ljust(29, '*')))"
      ]
    },
    {
      "cell_type": "code",
      "execution_count": null,
      "metadata": {
        "colab": {
          "base_uri": "https://localhost:8080/"
        },
        "execution": {
          "iopub.execute_input": "2025-05-27T07:35:15.264687Z",
          "iopub.status.busy": "2025-05-27T07:35:15.264362Z",
          "iopub.status.idle": "2025-05-27T07:35:15.382393Z",
          "shell.execute_reply": "2025-05-27T07:35:15.381740Z",
          "shell.execute_reply.started": "2025-05-27T07:35:15.264665Z"
        },
        "id": "WI2INdrbJPWm",
        "outputId": "11a6d4e6-c225-48cd-ad5e-c4f7f465bacd",
        "trusted": true
      },
      "outputs": [
        {
          "name": "stdout",
          "output_type": "stream",
          "text": [
            "2124748\n"
          ]
        }
      ],
      "source": [
        "l = len(inp)\n",
        "print(l)\n",
        "x_train, y_train = inp, targ\n",
        "x_val, y_val = inp[int(l*0.2):], targ[int(l*0.2):]"
      ]
    },
    {
      "cell_type": "code",
      "execution_count": null,
      "metadata": {
        "execution": {
          "iopub.execute_input": "2025-05-27T07:35:15.383198Z",
          "iopub.status.busy": "2025-05-27T07:35:15.383021Z",
          "iopub.status.idle": "2025-05-27T07:35:15.567615Z",
          "shell.execute_reply": "2025-05-27T07:35:15.566898Z",
          "shell.execute_reply.started": "2025-05-27T07:35:15.383183Z"
        },
        "id": "7KZlVPdUJPWn",
        "trusted": true
      },
      "outputs": [],
      "source": [
        "from torch.utils.data import DataLoader, Dataset\n",
        "\n",
        "class HM_Dataset(Dataset):\n",
        "    def __init__(self, x, y): self.x,self.y = torch.tensor(x, dtype=torch.long), torch.tensor(y, dtype=torch.long)\n",
        "    def __len__(self): return len(self.x)\n",
        "    def __getitem__(self, i): return self.x[i],self.y[i]\n"
      ]
    },
    {
      "cell_type": "code",
      "execution_count": null,
      "metadata": {
        "execution": {
          "iopub.execute_input": "2025-05-27T07:35:15.569081Z",
          "iopub.status.busy": "2025-05-27T07:35:15.568864Z",
          "iopub.status.idle": "2025-05-27T07:35:30.028030Z",
          "shell.execute_reply": "2025-05-27T07:35:30.027468Z",
          "shell.execute_reply.started": "2025-05-27T07:35:15.569064Z"
        },
        "id": "MIUs-ltZJPWo",
        "trusted": true
      },
      "outputs": [],
      "source": [
        "train_ds,val_ds = HM_Dataset(x_train, y_train),HM_Dataset(x_val, y_val)"
      ]
    },
    {
      "cell_type": "code",
      "execution_count": null,
      "metadata": {
        "execution": {
          "iopub.execute_input": "2025-05-27T07:35:30.029081Z",
          "iopub.status.busy": "2025-05-27T07:35:30.028818Z",
          "iopub.status.idle": "2025-05-27T07:35:30.034227Z",
          "shell.execute_reply": "2025-05-27T07:35:30.033550Z",
          "shell.execute_reply.started": "2025-05-27T07:35:30.029059Z"
        },
        "id": "-1dIpp5HJPWo",
        "trusted": true
      },
      "outputs": [],
      "source": [
        "train_dl, val_dl = DataLoader(train_ds, batch_size=64, shuffle=True), DataLoader(val_ds, batch_size=64)"
      ]
    },
    {
      "cell_type": "code",
      "execution_count": null,
      "metadata": {
        "colab": {
          "base_uri": "https://localhost:8080/"
        },
        "execution": {
          "iopub.execute_input": "2025-05-27T07:35:30.035607Z",
          "iopub.status.busy": "2025-05-27T07:35:30.035414Z",
          "iopub.status.idle": "2025-05-27T07:35:30.115005Z",
          "shell.execute_reply": "2025-05-27T07:35:30.114277Z",
          "shell.execute_reply.started": "2025-05-27T07:35:30.035592Z"
        },
        "id": "hhrfgdvsJPWp",
        "outputId": "0e061740-5c3a-4542-a630-c90b5dd0d18f",
        "trusted": true
      },
      "outputs": [
        {
          "name": "stdout",
          "output_type": "stream",
          "text": [
            "cuda is being used to train\n"
          ]
        }
      ],
      "source": [
        "batch_size = 64 # how many independent sequences will we process in parallel?\n",
        "block_size = 29 # what is the maximum context length for predictions?\n",
        "max_iters = 1000\n",
        "eval_interval = 100\n",
        "learning_rate = 1e-4\n",
        "eval_iters = 20\n",
        "n_emb = 384\n",
        "n_head = 6\n",
        "n_layer = 6\n",
        "dropout = 0.2\n",
        "device = 'cuda' if torch.cuda.is_available() else 'cpu'\n",
        "print(f'{device} is being used to train')"
      ]
    },
    {
      "cell_type": "code",
      "execution_count": null,
      "metadata": {
        "execution": {
          "iopub.execute_input": "2025-05-27T07:35:30.115884Z",
          "iopub.status.busy": "2025-05-27T07:35:30.115704Z",
          "iopub.status.idle": "2025-05-27T07:35:30.688962Z",
          "shell.execute_reply": "2025-05-27T07:35:30.688389Z",
          "shell.execute_reply.started": "2025-05-27T07:35:30.115870Z"
        },
        "id": "t889IyH7JPWp",
        "trusted": true
      },
      "outputs": [],
      "source": [
        "class Head(nn.Module):\n",
        "    \"\"\"one head of self-attention\"\"\"\n",
        "    def __init__(self, head_size):\n",
        "        super().__init__()\n",
        "        self.key = nn.Linear(n_emb, head_size, bias=False)\n",
        "        self.query = nn.Linear(n_emb, head_size, bias=False)\n",
        "        self.value = nn.Linear(n_emb, head_size, bias=False)\n",
        "        self.register_buffer('tril', torch.tril(torch.ones(block_size, block_size)))\n",
        "\n",
        "    def forward(self, x):\n",
        "        B, T, C = x.shape\n",
        "        k = self.key(x)\n",
        "        q = self.query(x)\n",
        "        wei = q @ k.transpose(-2, -1) * C**-0.5\n",
        "        wei = wei.masked_fill(self.tril[:T, :T] == 0, float('-inf'))\n",
        "        wei = F.softmax(wei, dim = -1)\n",
        "\n",
        "        v = self.value(x)\n",
        "        out = wei @ v\n",
        "        return out\n",
        "\n",
        "class MultiHeadAttention(nn.Module):\n",
        "    \"\"\"multiple heads of self-attention in parallel\"\"\"\n",
        "\n",
        "    def __init__(self, num_heads, head_size):\n",
        "        super().__init__()\n",
        "        self.heads = nn.ModuleList([Head(head_size) for _ in range(num_heads)])\n",
        "        self.proj = nn.Linear(n_emb, n_emb)\n",
        "        #self.dropout = nn.Dropout(dropout)\n",
        "    def forward(self, x):\n",
        "        out = torch.cat([h(x) for h in self.heads], dim=-1)\n",
        "        out = self.proj(out)\n",
        "        return out\n",
        "\n",
        "class FeedFoward(nn.Module):\n",
        "    \"\"\" a simple linear layer followed by a non-linearity \"\"\"\n",
        "\n",
        "    def __init__(self, n_emb):\n",
        "        super().__init__()\n",
        "        self.net = nn.Sequential(\n",
        "            nn.Linear(n_emb, 4 * n_emb),\n",
        "            nn.ReLU(),\n",
        "            nn.Linear(4 * n_emb, n_emb),\n",
        "        )\n",
        "\n",
        "    def forward(self, x):\n",
        "        return self.net(x)\n",
        "\n",
        "class Block(nn.Module):\n",
        "    \"\"\" Transformer block: communication followed by computation \"\"\"\n",
        "\n",
        "    def __init__(self, n_emb, n_head):\n",
        "        # n_embd: embedding dimension, n_head: the number of heads we'd like\n",
        "        super().__init__()\n",
        "        head_size = n_emb // n_head\n",
        "        self.sa = MultiHeadAttention(n_head, head_size)\n",
        "        self.ffwd = FeedFoward(n_emb)\n",
        "        self.ln1 = nn.LayerNorm(n_emb)\n",
        "        self.ln2 = nn.LayerNorm(n_emb)\n",
        "\n",
        "    def forward(self, x):\n",
        "        x = x + self.sa(self.ln1(x))\n",
        "        x = x + self.ffwd(self.ln2(x))\n",
        "        return x\n",
        "\n",
        "\n",
        "\n",
        "class GPTLanguageModel(nn.Module):\n",
        "    def __init__(self):\n",
        "        super().__init__()\n",
        "        self.token_embedding_table = nn.Embedding(vocab_size, n_emb)\n",
        "        self.position_embedding_table = nn.Embedding(block_size, n_emb)\n",
        "        self.blocks = nn.Sequential(*[Block(n_emb, n_head=n_head) for _ in range(n_layer)])\n",
        "        self.ln_f = nn.LayerNorm(n_emb)\n",
        "        self.lm_head = nn.Linear(n_emb, vocab_size)\n",
        "\n",
        "        self.apply(self._init_weights)\n",
        "\n",
        "    def _init_weights(self, module):\n",
        "        if isinstance(module, nn.Linear):\n",
        "            torch.nn.init.normal_(module.weight, mean=0.0, std=0.02)\n",
        "            if module.bias is not None:\n",
        "                torch.nn.init.zeros_(module.bias)\n",
        "        elif isinstance(module, nn.Embedding):\n",
        "            torch.nn.init.normal_(module.weight, mean=0.0, std=0.02)\n",
        "\n",
        "    def forward(self, idx, targets=None):\n",
        "        B, T = idx.shape\n",
        "        tok_emb = self.token_embedding_table(idx)\n",
        "        pos_emb = self.position_embedding_table(torch.arange(T, device=device))\n",
        "        x = tok_emb + pos_emb\n",
        "        x = self.blocks(x)\n",
        "        x = self.ln_f(x)\n",
        "        logits = self.lm_head(x)  # (B, T, vocab_size)\n",
        "\n",
        "        if targets is None:\n",
        "            loss = None\n",
        "        else:\n",
        "            mask = (idx == stoi['_']).float()  # 1s at masked positions (B, T)\n",
        "            loss = F.cross_entropy(\n",
        "                logits.view(-1, logits.size(-1)),  # (B*T, vocab_size)\n",
        "                targets.view(-1),                  # (B*T)\n",
        "                reduction='none'\n",
        "            )\n",
        "            loss = (loss * mask.view(-1)).sum() / mask.sum()  # Only masked positions\n",
        "\n",
        "        return logits, loss\n",
        "\n",
        "\n",
        "    def guess_letters(self, idx, max_guesses=10):\n",
        "        \"\"\"Generate guesses for masked positions\"\"\"\n",
        "        with torch.no_grad():\n",
        "            mask = (idx == stoi['_']).float()\n",
        "            for _ in range(max_guesses):\n",
        "                logits, _ = self(idx)\n",
        "                # Get probabilities only at masked positions\n",
        "                masked_logits = logits * mask.unsqueeze(-1)\n",
        "                probs = F.softmax(masked_logits, dim=-1)\n",
        "\n",
        "                # Sample from all masked positions simultaneously\n",
        "                guesses = torch.multinomial(probs.view(-1, probs.size(-1)), 1)\n",
        "                guesses = guesses.view(probs.shape[0], -1)\n",
        "\n",
        "                # Update mask and input\n",
        "                idx = torch.where(mask.bool(), guesses, idx)\n",
        "                mask = (idx == stoi['_']).float()  # Update remaining masks\n",
        "\n",
        "                if mask.sum() == 0:\n",
        "                    break\n",
        "        return idx\n",
        "\n",
        "model = GPTLanguageModel()\n",
        "model = model.to(device)"
      ]
    },
    {
      "cell_type": "code",
      "execution_count": null,
      "metadata": {
        "colab": {
          "base_uri": "https://localhost:8080/"
        },
        "execution": {
          "iopub.execute_input": "2025-05-27T07:39:57.332500Z",
          "iopub.status.busy": "2025-05-27T07:39:57.332168Z",
          "iopub.status.idle": "2025-05-27T07:39:57.847968Z",
          "shell.execute_reply": "2025-05-27T07:39:57.847380Z",
          "shell.execute_reply.started": "2025-05-27T07:39:57.332478Z"
        },
        "id": "fiVXJ3-DJPWp",
        "outputId": "53f61551-d435-4c4d-8a16-a078b043544b",
        "trusted": true
      },
      "outputs": [
        {
          "data": {
            "text/plain": [
              "<All keys matched successfully>"
            ]
          },
          "execution_count": 13,
          "metadata": {},
          "output_type": "execute_result"
        }
      ],
      "source": [
        "model.load_state_dict(torch.load('best_model(1).pt'))"
      ]
    },
    {
      "cell_type": "code",
      "execution_count": null,
      "metadata": {
        "colab": {
          "base_uri": "https://localhost:8080/"
        },
        "id": "Ru4-gK6_VL7Q",
        "outputId": "92cf19db-0fd4-4409-f414-73e2f891b5bf"
      },
      "outputs": [
        {
          "name": "stdout",
          "output_type": "stream",
          "text": [
            "Mounted at /content/drive\n"
          ]
        }
      ],
      "source": [
        "from google.colab import drive\n",
        "drive.mount('/content/drive')"
      ]
    },
    {
      "cell_type": "code",
      "execution_count": null,
      "metadata": {
        "id": "wFsLGOTGVRIs"
      },
      "outputs": [],
      "source": [
        "!mkdir drive/MyDrive/model_epoch"
      ]
    },
    {
      "cell_type": "code",
      "execution_count": null,
      "metadata": {
        "colab": {
          "base_uri": "https://localhost:8080/",
          "height": 742
        },
        "id": "MC4obaEUKgDJ",
        "outputId": "535a88bd-c565-430a-9a0f-dd8d853aced5"
      },
      "outputs": [
        {
          "name": "stderr",
          "output_type": "stream",
          "text": [
            "100%|██████████| 33200/33200 [29:58<00:00, 18.46it/s]\n"
          ]
        },
        {
          "name": "stdout",
          "output_type": "stream",
          "text": [
            "Epoch 1 | Train Loss: 1.6086 | Val Loss: 1.6309\n"
          ]
        },
        {
          "name": "stderr",
          "output_type": "stream",
          "text": [
            "100%|██████████| 33200/33200 [30:00<00:00, 18.44it/s]\n",
            "/usr/local/lib/python3.11/dist-packages/torch/optim/lr_scheduler.py:243: UserWarning: The epoch parameter in `scheduler.step()` was not necessary and is being deprecated where possible. Please use `scheduler.step()` to step the scheduler. During the deprecation, if epoch is different from None, the closed form is used instead of the new chainable form, where available. Please open an issue if you are unable to replicate your use case: https://github.com/pytorch/pytorch/issues/new/choose.\n",
            "  warnings.warn(EPOCH_DEPRECATION_WARNING, UserWarning)\n"
          ]
        },
        {
          "name": "stdout",
          "output_type": "stream",
          "text": [
            "Epoch 2 | Train Loss: 1.6055 | Val Loss: 1.6403\n"
          ]
        },
        {
          "name": "stderr",
          "output_type": "stream",
          "text": [
            "100%|██████████| 33200/33200 [30:00<00:00, 18.44it/s]\n"
          ]
        },
        {
          "name": "stdout",
          "output_type": "stream",
          "text": [
            "Epoch 3 | Train Loss: 1.6026 | Val Loss: 1.6239\n"
          ]
        },
        {
          "name": "stderr",
          "output_type": "stream",
          "text": [
            "100%|██████████| 33200/33200 [30:00<00:00, 18.44it/s]\n"
          ]
        },
        {
          "name": "stdout",
          "output_type": "stream",
          "text": [
            "Epoch 4 | Train Loss: 1.6000 | Val Loss: 1.6339\n"
          ]
        },
        {
          "name": "stderr",
          "output_type": "stream",
          "text": [
            "100%|██████████| 33200/33200 [29:55<00:00, 18.49it/s]\n"
          ]
        },
        {
          "name": "stdout",
          "output_type": "stream",
          "text": [
            "Epoch 5 | Train Loss: 1.5975 | Val Loss: 1.6193\n"
          ]
        },
        {
          "name": "stderr",
          "output_type": "stream",
          "text": [
            "100%|██████████| 33200/33200 [30:03<00:00, 18.41it/s]\n"
          ]
        },
        {
          "name": "stdout",
          "output_type": "stream",
          "text": [
            "Epoch 6 | Train Loss: 1.5953 | Val Loss: 1.6292\n"
          ]
        },
        {
          "name": "stderr",
          "output_type": "stream",
          "text": [
            "100%|██████████| 33200/33200 [30:28<00:00, 18.16it/s]\n"
          ]
        },
        {
          "name": "stdout",
          "output_type": "stream",
          "text": [
            "Epoch 7 | Train Loss: 1.5932 | Val Loss: 1.6153\n"
          ]
        },
        {
          "name": "stderr",
          "output_type": "stream",
          "text": [
            "100%|██████████| 33200/33200 [30:24<00:00, 18.20it/s]\n"
          ]
        },
        {
          "name": "stdout",
          "output_type": "stream",
          "text": [
            "Epoch 8 | Train Loss: 1.5915 | Val Loss: 1.6260\n"
          ]
        },
        {
          "name": "stderr",
          "output_type": "stream",
          "text": [
            " 10%|▉         | 3269/33200 [02:58<27:18, 18.27it/s]\n"
          ]
        },
        {
          "ename": "KeyboardInterrupt",
          "evalue": "",
          "output_type": "error",
          "traceback": [
            "\u001b[0;31m---------------------------------------------------------------------------\u001b[0m",
            "\u001b[0;31mKeyboardInterrupt\u001b[0m                         Traceback (most recent call last)",
            "\u001b[0;32m<ipython-input-16-b875076cdf12>\u001b[0m in \u001b[0;36m<cell line: 0>\u001b[0;34m()\u001b[0m\n\u001b[1;32m     35\u001b[0m \u001b[0;34m\u001b[0m\u001b[0m\n\u001b[1;32m     36\u001b[0m         \u001b[0moptimizer\u001b[0m\u001b[0;34m.\u001b[0m\u001b[0mzero_grad\u001b[0m\u001b[0;34m(\u001b[0m\u001b[0;34m)\u001b[0m\u001b[0;34m\u001b[0m\u001b[0;34m\u001b[0m\u001b[0m\n\u001b[0;32m---> 37\u001b[0;31m         \u001b[0mloss\u001b[0m\u001b[0;34m.\u001b[0m\u001b[0mbackward\u001b[0m\u001b[0;34m(\u001b[0m\u001b[0;34m)\u001b[0m\u001b[0;34m\u001b[0m\u001b[0;34m\u001b[0m\u001b[0m\n\u001b[0m\u001b[1;32m     38\u001b[0m         \u001b[0mtorch\u001b[0m\u001b[0;34m.\u001b[0m\u001b[0mnn\u001b[0m\u001b[0;34m.\u001b[0m\u001b[0mutils\u001b[0m\u001b[0;34m.\u001b[0m\u001b[0mclip_grad_norm_\u001b[0m\u001b[0;34m(\u001b[0m\u001b[0mmodel\u001b[0m\u001b[0;34m.\u001b[0m\u001b[0mparameters\u001b[0m\u001b[0;34m(\u001b[0m\u001b[0;34m)\u001b[0m\u001b[0;34m,\u001b[0m \u001b[0;36m0.5\u001b[0m\u001b[0;34m)\u001b[0m\u001b[0;34m\u001b[0m\u001b[0;34m\u001b[0m\u001b[0m\n\u001b[1;32m     39\u001b[0m         \u001b[0moptimizer\u001b[0m\u001b[0;34m.\u001b[0m\u001b[0mstep\u001b[0m\u001b[0;34m(\u001b[0m\u001b[0;34m)\u001b[0m\u001b[0;34m\u001b[0m\u001b[0;34m\u001b[0m\u001b[0m\n",
            "\u001b[0;32m/usr/local/lib/python3.11/dist-packages/torch/_tensor.py\u001b[0m in \u001b[0;36mbackward\u001b[0;34m(self, gradient, retain_graph, create_graph, inputs)\u001b[0m\n\u001b[1;32m    624\u001b[0m                 \u001b[0minputs\u001b[0m\u001b[0;34m=\u001b[0m\u001b[0minputs\u001b[0m\u001b[0;34m,\u001b[0m\u001b[0;34m\u001b[0m\u001b[0;34m\u001b[0m\u001b[0m\n\u001b[1;32m    625\u001b[0m             )\n\u001b[0;32m--> 626\u001b[0;31m         torch.autograd.backward(\n\u001b[0m\u001b[1;32m    627\u001b[0m             \u001b[0mself\u001b[0m\u001b[0;34m,\u001b[0m \u001b[0mgradient\u001b[0m\u001b[0;34m,\u001b[0m \u001b[0mretain_graph\u001b[0m\u001b[0;34m,\u001b[0m \u001b[0mcreate_graph\u001b[0m\u001b[0;34m,\u001b[0m \u001b[0minputs\u001b[0m\u001b[0;34m=\u001b[0m\u001b[0minputs\u001b[0m\u001b[0;34m\u001b[0m\u001b[0;34m\u001b[0m\u001b[0m\n\u001b[1;32m    628\u001b[0m         )\n",
            "\u001b[0;32m/usr/local/lib/python3.11/dist-packages/torch/autograd/__init__.py\u001b[0m in \u001b[0;36mbackward\u001b[0;34m(tensors, grad_tensors, retain_graph, create_graph, grad_variables, inputs)\u001b[0m\n\u001b[1;32m    345\u001b[0m     \u001b[0;31m# some Python versions print out the first line of a multi-line function\u001b[0m\u001b[0;34m\u001b[0m\u001b[0;34m\u001b[0m\u001b[0m\n\u001b[1;32m    346\u001b[0m     \u001b[0;31m# calls in the traceback and some print out the last line\u001b[0m\u001b[0;34m\u001b[0m\u001b[0;34m\u001b[0m\u001b[0m\n\u001b[0;32m--> 347\u001b[0;31m     _engine_run_backward(\n\u001b[0m\u001b[1;32m    348\u001b[0m         \u001b[0mtensors\u001b[0m\u001b[0;34m,\u001b[0m\u001b[0;34m\u001b[0m\u001b[0;34m\u001b[0m\u001b[0m\n\u001b[1;32m    349\u001b[0m         \u001b[0mgrad_tensors_\u001b[0m\u001b[0;34m,\u001b[0m\u001b[0;34m\u001b[0m\u001b[0;34m\u001b[0m\u001b[0m\n",
            "\u001b[0;32m/usr/local/lib/python3.11/dist-packages/torch/autograd/graph.py\u001b[0m in \u001b[0;36m_engine_run_backward\u001b[0;34m(t_outputs, *args, **kwargs)\u001b[0m\n\u001b[1;32m    821\u001b[0m         \u001b[0munregister_hooks\u001b[0m \u001b[0;34m=\u001b[0m \u001b[0m_register_logging_hooks_on_whole_graph\u001b[0m\u001b[0;34m(\u001b[0m\u001b[0mt_outputs\u001b[0m\u001b[0;34m)\u001b[0m\u001b[0;34m\u001b[0m\u001b[0;34m\u001b[0m\u001b[0m\n\u001b[1;32m    822\u001b[0m     \u001b[0;32mtry\u001b[0m\u001b[0;34m:\u001b[0m\u001b[0;34m\u001b[0m\u001b[0;34m\u001b[0m\u001b[0m\n\u001b[0;32m--> 823\u001b[0;31m         return Variable._execution_engine.run_backward(  # Calls into the C++ engine to run the backward pass\n\u001b[0m\u001b[1;32m    824\u001b[0m             \u001b[0mt_outputs\u001b[0m\u001b[0;34m,\u001b[0m \u001b[0;34m*\u001b[0m\u001b[0margs\u001b[0m\u001b[0;34m,\u001b[0m \u001b[0;34m**\u001b[0m\u001b[0mkwargs\u001b[0m\u001b[0;34m\u001b[0m\u001b[0;34m\u001b[0m\u001b[0m\n\u001b[1;32m    825\u001b[0m         )  # Calls into the C++ engine to run the backward pass\n",
            "\u001b[0;31mKeyboardInterrupt\u001b[0m: "
          ]
        }
      ],
      "source": [
        "def evaluate(model, val_loader, device):\n",
        "    model.eval()\n",
        "    total_loss = 0\n",
        "    total_samples = 0\n",
        "    with torch.no_grad():\n",
        "        for xb, yb in val_loader:\n",
        "            xb, yb = xb.to(device), yb.to(device)\n",
        "            _, loss = model(xb, yb)\n",
        "            total_loss += loss.item() * xb.size(0)\n",
        "            total_samples += xb.size(0)\n",
        "    return total_loss / total_samples\n",
        "\n",
        "from google.colab import files\n",
        "!mkdir model_epoch\n",
        "\n",
        "def save_model_weights(model, epoch, filepath='drive/MyDrive/model_epoch'):\n",
        "  \"\"\"Saves the model weights.\"\"\"\n",
        "  filepath = f'{filepath}/{epoch}.pt'\n",
        "  torch.save(model.state_dict(), filepath)\n",
        "\n",
        "\n",
        "\n",
        "\n",
        "optimizer = AdamW(model.parameters(), lr=3e-4, weight_decay=0.001)\n",
        "scheduler = CosineAnnealingLR(optimizer, T_max=max_iters, eta_min=1e-6)\n",
        "\n",
        "best_val_loss = float('inf')\n",
        "\n",
        "for epoch in range(max_iters):\n",
        "    model.train()\n",
        "    train_loss = 0\n",
        "    for xb, yb in tqdm(train_dl):\n",
        "        xb, yb = xb.long().to(device), yb.to(device)\n",
        "        logits, loss = model(xb, yb)\n",
        "\n",
        "        optimizer.zero_grad()\n",
        "        loss.backward()\n",
        "        torch.nn.utils.clip_grad_norm_(model.parameters(), 0.5)\n",
        "        optimizer.step()\n",
        "        scheduler.step()\n",
        "\n",
        "        train_loss += loss.item()\n",
        "\n",
        "    # Validation\n",
        "    val_loss = evaluate(model, val_dl, device)\n",
        "    print(f\"Epoch {epoch+1} | Train Loss: {train_loss/len(train_dl):.4f} | Val Loss: {val_loss:.4f}\")\n",
        "    save_model_weights(model, epoch + 1)\n",
        "    if val_loss < best_val_loss:\n",
        "        best_val_loss = val_loss\n",
        "        torch.save(model.state_dict(), 'best_model.pt')\n",
        "    else:\n",
        "        # Reduce LR on plateau\n",
        "        scheduler.step(val_loss)\n"
      ]
    }
  ],
  "metadata": {
    "accelerator": "GPU",
    "colab": {
      "gpuType": "T4",
      "provenance": []
    },
    "kaggle": {
      "accelerator": "gpu",
      "dataSources": [
        {
          "datasetId": 7519318,
          "sourceId": 11958846,
          "sourceType": "datasetVersion"
        },
        {
          "isSourceIdPinned": true,
          "modelId": 358875,
          "modelInstanceId": 337918,
          "sourceId": 413987,
          "sourceType": "modelInstanceVersion"
        }
      ],
      "dockerImageVersionId": 31041,
      "isGpuEnabled": true,
      "isInternetEnabled": true,
      "language": "python",
      "sourceType": "notebook"
    },
    "kernelspec": {
      "display_name": "Python 3",
      "name": "python3"
    },
    "language_info": {
      "codemirror_mode": {
        "name": "ipython",
        "version": 3
      },
      "file_extension": ".py",
      "mimetype": "text/x-python",
      "name": "python",
      "nbconvert_exporter": "python",
      "pygments_lexer": "ipython3",
      "version": "3.11.11"
    }
  },
  "nbformat": 4,
  "nbformat_minor": 0
}
